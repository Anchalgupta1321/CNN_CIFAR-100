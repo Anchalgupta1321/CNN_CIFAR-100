{
 "cells": [
  {
   "cell_type": "code",
   "execution_count": 1,
   "id": "27d988ff-4050-4ea4-a112-876f2e36637b",
   "metadata": {},
   "outputs": [],
   "source": [
    "import numpy as np\n",
    "import tensorflow as tf\n",
    "from tensorflow.keras import datasets, layers, models\n",
    "from tensorflow.keras.applications import ResNet50\n",
    "from tensorflow.keras.preprocessing import image\n",
    "from tensorflow.keras.models import Model\n",
    "from tensorflow.keras.optimizers import Adam"
   ]
  },
  {
   "cell_type": "code",
   "execution_count": 2,
   "id": "582a3cfe-b34d-4a92-810e-0dd56dbac236",
   "metadata": {},
   "outputs": [],
   "source": [
    "# Step 1: Load CIFAR-100 dataset\n",
    "(x_train, y_train), (x_test, y_test) = datasets.cifar100.load_data()\n"
   ]
  },
  {
   "cell_type": "code",
   "execution_count": 3,
   "id": "b8518c58-45f6-4879-af39-52d462294210",
   "metadata": {},
   "outputs": [],
   "source": [
    "# Step 2: Preprocess the CIFAR-100 dataset\n",
    "x_train = x_train.astype('float32') / 255.0  # Normalize the images to [0, 1]\n",
    "x_test = x_test.astype('float32') / 255.0"
   ]
  },
  {
   "cell_type": "code",
   "execution_count": 4,
   "id": "fd9f000d-3690-4766-94b3-6bfa5ceb6828",
   "metadata": {},
   "outputs": [],
   "source": [
    "# One-hot encode the labels\n",
    "y_train = tf.keras.utils.to_categorical(y_train, 100)\n",
    "y_test = tf.keras.utils.to_categorical(y_test, 100)\n"
   ]
  },
  {
   "cell_type": "markdown",
   "id": "a50f41cd-d161-4abf-9e1d-6ad7b46ef398",
   "metadata": {},
   "source": [
    "## Using Resnet50"
   ]
  },
  {
   "cell_type": "code",
   "execution_count": 5,
   "id": "dfdd64ac-bfe8-42c0-8573-4fa781d646ae",
   "metadata": {},
   "outputs": [],
   "source": [
    "# Step 3: Load the pretrained ResNet50 model\n",
    "base_model = ResNet50(weights='imagenet', include_top=False, input_shape=(32, 32, 3))"
   ]
  },
  {
   "cell_type": "code",
   "execution_count": 6,
   "id": "27eaae5e-f96f-491a-8722-e449ea01b1e4",
   "metadata": {},
   "outputs": [],
   "source": [
    "# Step 4: Add custom layers on top of ResNet50\n",
    "x = layers.GlobalAveragePooling2D()(base_model.output)  # Pooling layer\n",
    "x = layers.Dense(512, activation='relu')(x)             # Fully connected layer\n",
    "x = layers.Dropout(0.5)(x)                             # Dropout for regularization\n",
    "predictions = layers.Dense(100, activation='softmax')(x)  # Output layer (100 classes for CIFAR-100)"
   ]
  },
  {
   "cell_type": "code",
   "execution_count": 7,
   "id": "4f98b2d3-e937-4309-ac31-e977893449bf",
   "metadata": {},
   "outputs": [],
   "source": [
    "# Create the final model\n",
    "model = Model(inputs=base_model.input, outputs=predictions)"
   ]
  },
  {
   "cell_type": "code",
   "execution_count": 8,
   "id": "2aa92034-d42f-4642-ac09-ae09275360b9",
   "metadata": {},
   "outputs": [],
   "source": [
    "# Step 5: Freeze the base model layers for transfer learning\n",
    "for layer in base_model.layers:\n",
    "    layer.trainable = False"
   ]
  },
  {
   "cell_type": "code",
   "execution_count": 9,
   "id": "b071a26c-2936-48c5-94ca-9cf5cb30c6c7",
   "metadata": {},
   "outputs": [],
   "source": [
    "# Step 6: Compile the model\n",
    "model.compile(optimizer=Adam(), loss='categorical_crossentropy', metrics=['accuracy'])\n"
   ]
  },
  {
   "cell_type": "code",
   "execution_count": null,
   "id": "b3416815-54a4-4fef-8a85-844636862d8c",
   "metadata": {},
   "outputs": [
    {
     "name": "stdout",
     "output_type": "stream",
     "text": [
      "Epoch 1/30\n",
      "\u001b[1m782/782\u001b[0m \u001b[32m━━━━━━━━━━━━━━━━━━━━\u001b[0m\u001b[37m\u001b[0m \u001b[1m55s\u001b[0m 64ms/step - accuracy: 0.0098 - loss: 4.6750 - val_accuracy: 0.0100 - val_loss: 4.6052\n",
      "Epoch 2/30\n",
      "\u001b[1m782/782\u001b[0m \u001b[32m━━━━━━━━━━━━━━━━━━━━\u001b[0m\u001b[37m\u001b[0m \u001b[1m48s\u001b[0m 62ms/step - accuracy: 0.0097 - loss: 4.6055 - val_accuracy: 0.0100 - val_loss: 4.6052\n",
      "Epoch 3/30\n",
      "\u001b[1m782/782\u001b[0m \u001b[32m━━━━━━━━━━━━━━━━━━━━\u001b[0m\u001b[37m\u001b[0m \u001b[1m48s\u001b[0m 61ms/step - accuracy: 0.0109 - loss: 4.5984 - val_accuracy: 0.0207 - val_loss: 4.5550\n",
      "Epoch 4/30\n",
      "\u001b[1m782/782\u001b[0m \u001b[32m━━━━━━━━━━━━━━━━━━━━\u001b[0m\u001b[37m\u001b[0m \u001b[1m47s\u001b[0m 61ms/step - accuracy: 0.0145 - loss: 4.5774 - val_accuracy: 0.0215 - val_loss: 4.5513\n",
      "Epoch 5/30\n",
      "\u001b[1m782/782\u001b[0m \u001b[32m━━━━━━━━━━━━━━━━━━━━\u001b[0m\u001b[37m\u001b[0m \u001b[1m48s\u001b[0m 61ms/step - accuracy: 0.0147 - loss: 4.5727 - val_accuracy: 0.0208 - val_loss: 4.5548\n",
      "Epoch 6/30\n",
      "\u001b[1m782/782\u001b[0m \u001b[32m━━━━━━━━━━━━━━━━━━━━\u001b[0m\u001b[37m\u001b[0m \u001b[1m48s\u001b[0m 61ms/step - accuracy: 0.0143 - loss: 4.5721 - val_accuracy: 0.0211 - val_loss: 4.5475\n",
      "Epoch 7/30\n",
      "\u001b[1m782/782\u001b[0m \u001b[32m━━━━━━━━━━━━━━━━━━━━\u001b[0m\u001b[37m\u001b[0m \u001b[1m48s\u001b[0m 62ms/step - accuracy: 0.0152 - loss: 4.5688 - val_accuracy: 0.0204 - val_loss: 4.5392\n",
      "Epoch 8/30\n",
      "\u001b[1m782/782\u001b[0m \u001b[32m━━━━━━━━━━━━━━━━━━━━\u001b[0m\u001b[37m\u001b[0m \u001b[1m47s\u001b[0m 60ms/step - accuracy: 0.0177 - loss: 4.5616 - val_accuracy: 0.0256 - val_loss: 4.5208\n",
      "Epoch 9/30\n",
      "\u001b[1m782/782\u001b[0m \u001b[32m━━━━━━━━━━━━━━━━━━━━\u001b[0m\u001b[37m\u001b[0m \u001b[1m47s\u001b[0m 60ms/step - accuracy: 0.0174 - loss: 4.5548 - val_accuracy: 0.0239 - val_loss: 4.5197\n",
      "Epoch 10/30\n",
      "\u001b[1m782/782\u001b[0m \u001b[32m━━━━━━━━━━━━━━━━━━━━\u001b[0m\u001b[37m\u001b[0m \u001b[1m47s\u001b[0m 60ms/step - accuracy: 0.0186 - loss: 4.5478 - val_accuracy: 0.0272 - val_loss: 4.5180\n",
      "Epoch 11/30\n",
      "\u001b[1m782/782\u001b[0m \u001b[32m━━━━━━━━━━━━━━━━━━━━\u001b[0m\u001b[37m\u001b[0m \u001b[1m47s\u001b[0m 60ms/step - accuracy: 0.0189 - loss: 4.5479 - val_accuracy: 0.0263 - val_loss: 4.5057\n",
      "Epoch 12/30\n",
      "\u001b[1m782/782\u001b[0m \u001b[32m━━━━━━━━━━━━━━━━━━━━\u001b[0m\u001b[37m\u001b[0m \u001b[1m48s\u001b[0m 61ms/step - accuracy: 0.0191 - loss: 4.5429 - val_accuracy: 0.0295 - val_loss: 4.4997\n",
      "Epoch 13/30\n",
      "\u001b[1m782/782\u001b[0m \u001b[32m━━━━━━━━━━━━━━━━━━━━\u001b[0m\u001b[37m\u001b[0m \u001b[1m48s\u001b[0m 61ms/step - accuracy: 0.0197 - loss: 4.5406 - val_accuracy: 0.0318 - val_loss: 4.4949\n",
      "Epoch 14/30\n",
      "\u001b[1m782/782\u001b[0m \u001b[32m━━━━━━━━━━━━━━━━━━━━\u001b[0m\u001b[37m\u001b[0m \u001b[1m48s\u001b[0m 61ms/step - accuracy: 0.0195 - loss: 4.5409 - val_accuracy: 0.0324 - val_loss: 4.4893\n",
      "Epoch 15/30\n",
      "\u001b[1m782/782\u001b[0m \u001b[32m━━━━━━━━━━━━━━━━━━━━\u001b[0m\u001b[37m\u001b[0m \u001b[1m48s\u001b[0m 62ms/step - accuracy: 0.0193 - loss: 4.5330 - val_accuracy: 0.0325 - val_loss: 4.4911\n",
      "Epoch 16/30\n",
      "\u001b[1m782/782\u001b[0m \u001b[32m━━━━━━━━━━━━━━━━━━━━\u001b[0m\u001b[37m\u001b[0m \u001b[1m49s\u001b[0m 62ms/step - accuracy: 0.0202 - loss: 4.5380 - val_accuracy: 0.0331 - val_loss: 4.4872\n",
      "Epoch 17/30\n",
      "\u001b[1m782/782\u001b[0m \u001b[32m━━━━━━━━━━━━━━━━━━━━\u001b[0m\u001b[37m\u001b[0m \u001b[1m49s\u001b[0m 63ms/step - accuracy: 0.0204 - loss: 4.5320 - val_accuracy: 0.0354 - val_loss: 4.4828\n",
      "Epoch 18/30\n",
      "\u001b[1m782/782\u001b[0m \u001b[32m━━━━━━━━━━━━━━━━━━━━\u001b[0m\u001b[37m\u001b[0m \u001b[1m49s\u001b[0m 62ms/step - accuracy: 0.0209 - loss: 4.5268 - val_accuracy: 0.0372 - val_loss: 4.4696\n",
      "Epoch 19/30\n",
      "\u001b[1m782/782\u001b[0m \u001b[32m━━━━━━━━━━━━━━━━━━━━\u001b[0m\u001b[37m\u001b[0m \u001b[1m49s\u001b[0m 62ms/step - accuracy: 0.0199 - loss: 4.5333 - val_accuracy: 0.0351 - val_loss: 4.4731\n",
      "Epoch 20/30\n",
      "\u001b[1m782/782\u001b[0m \u001b[32m━━━━━━━━━━━━━━━━━━━━\u001b[0m\u001b[37m\u001b[0m \u001b[1m49s\u001b[0m 63ms/step - accuracy: 0.0206 - loss: 4.5300 - val_accuracy: 0.0347 - val_loss: 4.4651\n",
      "Epoch 21/30\n",
      "\u001b[1m782/782\u001b[0m \u001b[32m━━━━━━━━━━━━━━━━━━━━\u001b[0m\u001b[37m\u001b[0m \u001b[1m48s\u001b[0m 62ms/step - accuracy: 0.0202 - loss: 4.5338 - val_accuracy: 0.0360 - val_loss: 4.4610\n",
      "Epoch 22/30\n",
      "\u001b[1m782/782\u001b[0m \u001b[32m━━━━━━━━━━━━━━━━━━━━\u001b[0m\u001b[37m\u001b[0m \u001b[1m46s\u001b[0m 59ms/step - accuracy: 0.0204 - loss: 4.5266 - val_accuracy: 0.0296 - val_loss: 4.4974\n",
      "Epoch 23/30\n",
      "\u001b[1m782/782\u001b[0m \u001b[32m━━━━━━━━━━━━━━━━━━━━\u001b[0m\u001b[37m\u001b[0m \u001b[1m47s\u001b[0m 60ms/step - accuracy: 0.0200 - loss: 4.5310 - val_accuracy: 0.0343 - val_loss: 4.4726\n",
      "Epoch 24/30\n",
      "\u001b[1m782/782\u001b[0m \u001b[32m━━━━━━━━━━━━━━━━━━━━\u001b[0m\u001b[37m\u001b[0m \u001b[1m48s\u001b[0m 61ms/step - accuracy: 0.0220 - loss: 4.5283 - val_accuracy: 0.0344 - val_loss: 4.4709\n",
      "Epoch 25/30\n",
      "\u001b[1m782/782\u001b[0m \u001b[32m━━━━━━━━━━━━━━━━━━━━\u001b[0m\u001b[37m\u001b[0m \u001b[1m47s\u001b[0m 60ms/step - accuracy: 0.0202 - loss: 4.5312 - val_accuracy: 0.0365 - val_loss: 4.4606\n",
      "Epoch 26/30\n",
      "\u001b[1m782/782\u001b[0m \u001b[32m━━━━━━━━━━━━━━━━━━━━\u001b[0m\u001b[37m\u001b[0m \u001b[1m48s\u001b[0m 62ms/step - accuracy: 0.0219 - loss: 4.5336 - val_accuracy: 0.0373 - val_loss: 4.4552\n",
      "Epoch 27/30\n",
      "\u001b[1m782/782\u001b[0m \u001b[32m━━━━━━━━━━━━━━━━━━━━\u001b[0m\u001b[37m\u001b[0m \u001b[1m48s\u001b[0m 61ms/step - accuracy: 0.0212 - loss: 4.5270 - val_accuracy: 0.0344 - val_loss: 4.4748\n",
      "Epoch 28/30\n",
      "\u001b[1m782/782\u001b[0m \u001b[32m━━━━━━━━━━━━━━━━━━━━\u001b[0m\u001b[37m\u001b[0m \u001b[1m48s\u001b[0m 62ms/step - accuracy: 0.0209 - loss: 4.5311 - val_accuracy: 0.0334 - val_loss: 4.4761\n",
      "Epoch 29/30\n",
      "\u001b[1m782/782\u001b[0m \u001b[32m━━━━━━━━━━━━━━━━━━━━\u001b[0m\u001b[37m\u001b[0m \u001b[1m49s\u001b[0m 63ms/step - accuracy: 0.0199 - loss: 4.5250 - val_accuracy: 0.0226 - val_loss: 4.5229\n",
      "Epoch 30/30\n",
      "\u001b[1m449/782\u001b[0m \u001b[32m━━━━━━━━━━━\u001b[0m\u001b[37m━━━━━━━━━\u001b[0m \u001b[1m17s\u001b[0m 53ms/step - accuracy: 0.0191 - loss: 4.5294"
     ]
    }
   ],
   "source": [
    "# Step 7: Train the model\n",
    "history = model.fit(x_train, \n",
    "                    y_train, \n",
    "                    epochs=30,\n",
    "                    batch_size=64, \n",
    "                    validation_data=(x_test, y_test))"
   ]
  },
  {
   "cell_type": "code",
   "execution_count": null,
   "id": "212bbe02-d653-4104-a93f-1506463bc087",
   "metadata": {},
   "outputs": [],
   "source": [
    "# Step 8: Evaluate the model\n",
    "test_loss, test_acc = model.evaluate(x_test, y_test, verbose=2)\n",
    "print(f\"Test accuracy: {test_acc}\")"
   ]
  },
  {
   "cell_type": "code",
   "execution_count": null,
   "id": "2e64a7bb-a082-4ffb-9c15-e16816314fdd",
   "metadata": {},
   "outputs": [],
   "source": []
  }
 ],
 "metadata": {
  "kernelspec": {
   "display_name": "Python 3 (ipykernel)",
   "language": "python",
   "name": "python3"
  },
  "language_info": {
   "codemirror_mode": {
    "name": "ipython",
    "version": 3
   },
   "file_extension": ".py",
   "mimetype": "text/x-python",
   "name": "python",
   "nbconvert_exporter": "python",
   "pygments_lexer": "ipython3",
   "version": "3.12.4"
  }
 },
 "nbformat": 4,
 "nbformat_minor": 5
}
